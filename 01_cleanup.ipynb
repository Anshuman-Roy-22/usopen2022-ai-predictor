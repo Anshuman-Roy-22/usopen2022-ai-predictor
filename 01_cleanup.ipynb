{
 "cells": [
  {
   "cell_type": "code",
   "execution_count": null,
   "id": "cell-1",
   "metadata": {},
   "outputs": [],
   "source": [
    "%pip install pandas pyarrow\n"
   ]
  },
  {
   "cell_type": "code",
   "execution_count": null,
   "id": "cell-2",
   "metadata": {},
   "outputs": [],
   "source": [
    "import os\n",
    "print(\"Notebook working directory:\", os.getcwd())\n"
   ]
  },
  {
   "cell_type": "code",
   "execution_count": null,
   "id": "cell-3",
   "metadata": {},
   "outputs": [],
   "source": [
    "print(\"Current dir:\", os.getcwd())\n",
    "print(\"\\ndata/:\")\n",
    "print(os.listdir(\"data\"))\n",
    "print(\"\\ndata/tournaments/:\")\n",
    "print(os.listdir(os.path.join(\"data\", \"tournaments\")))\n"
   ]
  },
  {
   "cell_type": "code",
   "execution_count": null,
   "id": "cell-4",
   "metadata": {},
   "outputs": [],
   "source": [
    "import pandas as pd\n",
    "\n",
    "column_names = [\n",
    "    \"tourney_year_id\", \"tourney_order\", \"tourney_type\", \"tourney_name\", \"tourney_id\",\n",
    "    \"tourney_slug\", \"tourney_location\", \"tourney_date\", \"year\", \"tourney_month\",\n",
    "    \"tourney_day\", \"tourney_singles_draw\", \"tourney_doubles_draw\", \"tourney_conditions\",\n",
    "    \"tourney_surface\", \"tourney_fin_commit_raw\", \"currency\", \"tourney_fin_commit\",\n",
    "    \"tourney_url_suffix\", \"singles_winner_name\", \"singles_winner_url\",\n",
    "    \"singles_winner_player_slug\", \"singles_winner_player_id\", \"doubles_winner_1_name\",\n",
    "    \"doubles_winner_1_url\", \"doubles_winner_1_player_slug\", \"doubles_winner_1_player_id\",\n",
    "    \"doubles_winner_2_name\", \"doubles_winner_2_url\", \"doubles_winner_2_player_slug\",\n",
    "    \"doubles_winner_2_player_id\"\n",
    "]\n",
    "\n",
    "tourn_path = \"data/tournaments/tournaments_2020-2022.csv\"\n",
    "tournaments = pd.read_csv(tourn_path, header=None, names=column_names)\n",
    "\n",
    "usopen_tourn = tournaments[\n",
    "    (tournaments[\"tourney_name\"] == \"US Open\") & (tournaments[\"year\"] == 2022)\n",
    "].copy()\n",
    "\n",
    "print(\"Filtered US Open 2022 Tournament:\")\n",
    "print(usopen_tourn[[\"tourney_year_id\", \"tourney_name\", \"year\"]])\n"
   ]
  },
  {
   "cell_type": "code",
   "execution_count": null,
   "id": "cell-5",
   "metadata": {},
   "outputs": [],
   "source": [
    "match_scores_path = \"data/match_scores/match_scores_2020-2022.csv\"\n",
    "\n",
    "match_scores_columns = [\n",
    "    \"tourney_year_id\", \"tourney_order\", \"tourney_name\", \"tourney_slug\",\n",
    "    \"tourney_url_suffix\", \"start_date\", \"start_year\", \"start_month\", \"start_day\",\n",
    "    \"end_date\", \"end_year\", \"end_month\", \"end_day\", \"currency\", \"prize_money\",\n",
    "    \"match_index\", \"tourney_round_name\", \"round_order\", \"match_order\",\n",
    "    \"winner_name\", \"winner_player_id\", \"winner_slug\", \"loser_name\",\n",
    "    \"loser_player_id\", \"loser_slug\", \"winner_seed\", \"loser_seed\",\n",
    "    \"match_score_tiebreaks\", \"winner_sets_won\", \"loser_sets_won\",\n",
    "    \"winner_games_won\", \"loser_games_won\", \"winner_tiebreaks_won\",\n",
    "    \"loser_tiebreaks_won\", \"match_id\", \"match_stats_url_suffix\"\n",
    "]\n",
    "\n",
    "match_scores = pd.read_csv(match_scores_path, header=None, names=match_scores_columns)\n",
    "usopen_id = usopen_tourn[\"tourney_year_id\"].iloc[0]\n",
    "usopen_matches = match_scores[match_scores[\"tourney_year_id\"] == usopen_id].copy()\n",
    "print(\"US Open 2022 Match Scores (First 5 rows):\")\n",
    "display(usopen_matches.head())\n"
   ]
  },
  {
   "cell_type": "code",
   "execution_count": null,
   "id": "cell-6",
   "metadata": {},
   "outputs": [],
   "source": [
    "pd.set_option(\"display.max_columns\", None)\n",
    "stats_raw = pd.read_csv(\"data/stats/match_stats_extended_2022.csv\", header=None)\n",
    "\n",
    "stat_cols = [\n",
    "    \"match_id\", \"tourney_slug\", \"match_stats_url_suffix\", \"winner_slug\",\n",
    "    \"winner_serve_rating\", \"winner_aces\", \"winner_double_faults\",\n",
    "    \"winner_first_serves_in\", \"winner_first_serves_total\",\n",
    "    \"winner_first_serve_points_won\", \"winner_first_serve_points_total\",\n",
    "    \"winner_second_serve_points_won\", \"winner_second_serve_points_total\",\n",
    "    \"winner_break_points_saved\", \"winner_break_points_serve_total\",\n",
    "    \"winner_service_games_played\", \"winner_return_rating\",\n",
    "    \"winner_first_serve_return_won\", \"winner_first_serve_return_total\",\n",
    "    \"winner_second_serve_return_won\", \"winner_second_serve_return_total\",\n",
    "    \"winner_break_points_converted\", \"winner_break_points_return_total\",\n",
    "    \"winner_return_games_played\", \"winner_service_points_won\"\n",
    "]\n",
    "stats_raw.columns = stat_cols\n",
    "\n",
    "stats = stats_raw.add_prefix(\"stats_\")\n",
    "stats = stats.rename(columns={\"stats_match_id\": \"match_id\"})\n",
    "\n",
    "stats = stats[stats[\"match_id\"].isin(usopen_matches[\"match_id\"])]\n",
    "usopen_matches = usopen_matches.merge(stats, on=\"match_id\", how=\"left\")\n",
    "usopen_matches = usopen_matches.dropna(axis=1, how=\"all\")\n",
    "\n",
    "print(\"After merging all 25 stat fields:\", usopen_matches.shape)\n",
    "display(usopen_matches.head())\n"
   ]
  },
  {
   "cell_type": "code",
   "execution_count": null,
   "id": "cell-7",
   "metadata": {},
   "outputs": [],
   "source": [
    "cwd = os.getcwd()\n",
    "repo_root = os.path.abspath(os.path.join(cwd, os.pardir))\n",
    "processed_dir = os.path.join(repo_root, \"data\", \"processed\")\n",
    "out_path = os.path.join(processed_dir, \"usopen_2022_matches.csv\")\n",
    "\n",
    "print(\"Notebook cwd:         \", cwd)\n",
    "print(\"Expected repo root:   \", repo_root)\n",
    "print(\"Processed directory:  \", processed_dir)\n",
    "print(\"Full CSV output path: \", out_path)\n",
    "print(\"Exists?:\", os.path.exists(out_path))\n"
   ]
  }
 ],
 "metadata": {
  "kernelspec": {
   "display_name": "Python 3 (ipykernel)",
   "language": "python",
   "name": "python3"
  },
  "language_info": {
   "codemirror_mode": {
    "name": "ipython",
    "version": 3
   },
   "file_extension": ".py",
   "mimetype": "text/x-python",
   "name": "python",
   "nbconvert_exporter": "python",
   "pygments_lexer": "ipython3",
   "version": "3.13.5"
  }
 },
 "nbformat": 4,
 "nbformat_minor": 5
}
