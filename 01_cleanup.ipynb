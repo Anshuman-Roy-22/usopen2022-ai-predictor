{
 "cells": [
  {
   "cell_type": "code",
   "execution_count": null,
   "id": "ceaa5591-5a0f-415b-8bd7-27804c6ec5ae",
   "metadata": {},
   "outputs": [],
   "source": [
    "%pip install pandas pyarrow"
   ]
  }
 ],
 "metadata": {
  "kernelspec": {
   "display_name": "Python 3 (ipykernel)",
   "language": "python",
   "name": "python3"
  },
  "language_info": {
   "codemirror_mode": {
    "name": "ipython",
    "version": 3
   },
   "file_extension": ".py",
   "mimetype": "text/x-python",
   "name": "python",
   "nbconvert_exporter": "python",
   "pygments_lexer": "ipython3",
   "version": "3.13.5"
  }
 },
 "nbformat": 4,
 "nbformat_minor": 5
}

